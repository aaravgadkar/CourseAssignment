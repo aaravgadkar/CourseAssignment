{
 "cells": [
  {
   "cell_type": "markdown",
   "id": "2a666803-882e-47e8-af58-08b691f312c9",
   "metadata": {},
   "source": [
    "# Data Science Tools and Ecosystem"
   ]
  },
  {
   "cell_type": "markdown",
   "id": "515589e5-1efd-4493-82ae-ae47fb2c8e2a",
   "metadata": {},
   "source": [
    "In this notebook, Data Science Tools and Ecosystems are summarized."
   ]
  },
  {
   "cell_type": "markdown",
   "id": "0b9d9a6c-5a6e-496e-8b93-ba2d5e82d7b0",
   "metadata": {},
   "source": [
    "**Objectives:**\n",
    "Some of the key takeaways from this course are\n",
    "- List Popular languages for Data Science\n",
    "- List popular libraries for Data Science\n",
    "- List Data Science tools\n",
    "- Demonstrate examples of arithmetic operations"
   ]
  },
  {
   "cell_type": "markdown",
   "id": "2ad0e586-33ab-42df-8a2d-5d6edf6b1c1a",
   "metadata": {},
   "source": [
    "Some of the popular Languages that Data Scientists use are:\n",
    "1. Python\n",
    "2. R\n",
    "3. Scale\n",
    "4. SQL"
   ]
  },
  {
   "cell_type": "markdown",
   "id": "feb5ecb5-6a9c-4c19-b509-555331ec8244",
   "metadata": {},
   "source": [
    "Some of the commonly used libraries used by Data Scientists include:\n",
    "1. Pandas\n",
    "2. NumPy\n",
    "3. Scikit-learn\n",
    "4. Matplotlib"
   ]
  },
  {
   "cell_type": "markdown",
   "id": "a7346b77-0fc3-462b-a914-0a1f838c3c83",
   "metadata": {},
   "source": [
    "| Data Science Tools        |\n",
    "|---------------------------|\n",
    "| Jupyter Notebook          |\n",
    "| RStudio                   |\n",
    "| Apache Zeppelin           |"
   ]
  },
  {
   "cell_type": "markdown",
   "id": "7245bf3a-b93f-4ce5-8e3d-e1487e03fd44",
   "metadata": {},
   "source": [
    "### Below are a few examples of evaluating arithmetic expressions in Python"
   ]
  },
  {
   "cell_type": "code",
   "execution_count": 1,
   "id": "c616cc68-5245-458b-91aa-cd3f29e395c7",
   "metadata": {
    "tags": []
   },
   "outputs": [
    {
     "data": {
      "text/plain": [
       "17"
      ]
     },
     "execution_count": 1,
     "metadata": {},
     "output_type": "execute_result"
    }
   ],
   "source": [
    "# This a simple arithmetic expression to mutiply then add integers\n",
    "(3*4)+5"
   ]
  },
  {
   "cell_type": "code",
   "execution_count": 2,
   "id": "671122d2-75a4-4521-ba6c-2d0b7a767f7d",
   "metadata": {
    "tags": []
   },
   "outputs": [
    {
     "data": {
      "text/plain": [
       "3.3333333333333335"
      ]
     },
     "execution_count": 2,
     "metadata": {},
     "output_type": "execute_result"
    }
   ],
   "source": [
    "#  This will convert 200 minutes to hours by diving by 60\n",
    "200/60"
   ]
  },
  {
   "cell_type": "markdown",
   "id": "12635ede-b89c-4525-9553-be5454c06e18",
   "metadata": {},
   "source": [
    "## Author\n",
    "Aarav Gadkar"
   ]
  },
  {
   "cell_type": "code",
   "execution_count": null,
   "id": "5f7c2af6-45df-484d-b832-e413617c6152",
   "metadata": {},
   "outputs": [],
   "source": []
  }
 ],
 "metadata": {
  "kernelspec": {
   "display_name": "Python",
   "language": "python",
   "name": "conda-env-python-py"
  },
  "language_info": {
   "codemirror_mode": {
    "name": "ipython",
    "version": 3
   },
   "file_extension": ".py",
   "mimetype": "text/x-python",
   "name": "python",
   "nbconvert_exporter": "python",
   "pygments_lexer": "ipython3",
   "version": "3.7.12"
  }
 },
 "nbformat": 4,
 "nbformat_minor": 5
}
